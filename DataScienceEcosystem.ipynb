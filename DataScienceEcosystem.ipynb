{
 "cells": [
  {
   "cell_type": "markdown",
   "id": "92541fe9-eac2-4e23-8c65-7ed799c9d2ab",
   "metadata": {},
   "source": [
    "<h1>Data Science Tools and Ecosystem</h1>"
   ]
  },
  {
   "cell_type": "markdown",
   "id": "ae619dac-b89b-4415-913d-332b88428d4c",
   "metadata": {},
   "source": [
    "In this notebook, Data Science Tools and Ecosystem are summarized."
   ]
  },
  {
   "cell_type": "markdown",
   "id": "9e77c3a7-38dd-404a-ab9d-0d3043f13a6c",
   "metadata": {},
   "source": [
    "Some of the popular languages that Data Scientists use are:"
   ]
  },
  {
   "cell_type": "markdown",
   "id": "8c9f927e-0313-4a47-9b4c-6d9baef4ec4b",
   "metadata": {},
   "source": [
    "ordered list:- <br>\n",
    "1 - Python  <br>\n",
    "2 - R programing  <br>\n",
    "3 - Julia  <br>\n",
    "4 - Java  <br>\n",
    "5 - SQL"
   ]
  },
  {
   "cell_type": "markdown",
   "id": "a2279450-92b6-40a3-9fcf-8f1321972d5f",
   "metadata": {},
   "source": [
    "Some of the commonly used libraries used by Data Scientists include:  <br>\n",
    "ordered list:-  <br> 1 - Numpy  <br>2 - Pandas  <br>3 - Matplotlib  <br>4 - Plotly  <br>5 - seaborn"
   ]
  },
  {
   "cell_type": "markdown",
   "id": "e7460ca9-a249-442c-81bc-306357df3295",
   "metadata": {
    "tags": []
   },
   "source": [
    "<h1>Data Science Tools</h1>"
   ]
  },
  {
   "cell_type": "markdown",
   "id": "816eff57-1266-44c2-81ff-b04bb14fc126",
   "metadata": {},
   "source": [
    "1. SAS <br>\n",
    "2. Apache Spark  <br>\n",
    "3. Tableau"
   ]
  },
  {
   "cell_type": "markdown",
   "id": "fa9adc9d-d34a-4f66-9d16-c3c4ebbe5708",
   "metadata": {},
   "source": [
    "<h3>Below are a few examples of evaluating arithmetic expressions in Python</h3>"
   ]
  },
  {
   "cell_type": "code",
   "execution_count": 1,
   "id": "abc4184e-6873-4e3e-937f-daa6cf525668",
   "metadata": {
    "tags": []
   },
   "outputs": [
    {
     "data": {
      "text/plain": [
       "17"
      ]
     },
     "execution_count": 1,
     "metadata": {},
     "output_type": "execute_result"
    }
   ],
   "source": [
    "(3*4)+5"
   ]
  },
  {
   "cell_type": "code",
   "execution_count": 4,
   "id": "20f074b8-90b6-45f4-8531-e4977608051b",
   "metadata": {
    "tags": []
   },
   "outputs": [
    {
     "data": {
      "text/plain": [
       "3.3333333333333335"
      ]
     },
     "execution_count": 4,
     "metadata": {},
     "output_type": "execute_result"
    }
   ],
   "source": [
    "200/60"
   ]
  },
  {
   "cell_type": "markdown",
   "id": "87c8a402-7f27-48bd-9628-7b4500e53cfd",
   "metadata": {},
   "source": [
    "<h3>List popular languages for Data Science</h3>"
   ]
  },
  {
   "cell_type": "markdown",
   "id": "870b6a7d-8d13-46cb-82aa-cb7c9d0672dd",
   "metadata": {},
   "source": [
    "<b>Objectives</b>"
   ]
  },
  {
   "cell_type": "markdown",
   "id": "15ee1a32-b929-49bf-a32d-64d4511dbb9f",
   "metadata": {},
   "source": [
    "1 - Python  <br>\n",
    "2 - R programing  <br>\n",
    "3 - Julia  <br>\n",
    "4 - Java  <br>\n",
    "5 - SQL"
   ]
  },
  {
   "cell_type": "markdown",
   "id": "8bb626fc-7e1c-46ad-899f-7a6a27717ce4",
   "metadata": {},
   "source": [
    "<h2>Author</h2>\n",
    "Name: Narasimha Vaddi"
   ]
  },
  {
   "cell_type": "code",
   "execution_count": null,
   "id": "38533650-7d1e-4e3a-8faf-8365bd276ad6",
   "metadata": {},
   "outputs": [],
   "source": []
  }
 ],
 "metadata": {
  "kernelspec": {
   "display_name": "Python",
   "language": "python",
   "name": "conda-env-python-py"
  },
  "language_info": {
   "codemirror_mode": {
    "name": "ipython",
    "version": 3
   },
   "file_extension": ".py",
   "mimetype": "text/x-python",
   "name": "python",
   "nbconvert_exporter": "python",
   "pygments_lexer": "ipython3",
   "version": "3.7.12"
  }
 },
 "nbformat": 4,
 "nbformat_minor": 5
}
